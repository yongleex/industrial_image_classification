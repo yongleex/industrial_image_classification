{
 "cells": [
  {
   "cell_type": "markdown",
   "metadata": {},
   "source": [
    "# 分析多个网络的表现，并推测出最佳的结果，展示出有问题结果的图像\n",
    "- 学习pandas\n",
    "- 学习seaborn\n",
    "- 学习数据分析"
   ]
  },
  {
   "cell_type": "code",
   "execution_count": 41,
   "metadata": {
    "collapsed": true
   },
   "outputs": [],
   "source": [
    "import pandas as pd\n",
    "import numpy as np\n",
    "import os\n",
    "import matplotlib.pyplot as plt\n",
    "import seaborn as sns\n",
    "sns.set()\n",
    "%matplotlib inline"
   ]
  },
  {
   "cell_type": "code",
   "execution_count": 42,
   "metadata": {
    "scrolled": true
   },
   "outputs": [
    {
     "name": "stdout",
     "output_type": "stream",
     "text": [
      "               id  c1  c2  c3  c4  c5  c6  c7  c8  c9  c10  c11  c12\n",
      "0  test_00000.png   1   1   4   1   1   0   1   0   0    1    1    0\n",
      "1  test_00001.png   2   2   2   2   2   0   1   0   0    0    0    0\n",
      "2  test_00002.png   5   5   5   5   5   0   5   1   5    1    1    5\n",
      "3  test_00003.png   0   0   0   0   0   0   1   1   0    0    1    0\n",
      "4  test_00004.png   2   2   2   2   2   0   1   1   0    1    0    0\n"
     ]
    }
   ],
   "source": [
    "# 读取网络计算的结果\n",
    "df = pd.read_csv(\"test_raw_result.csv\")\n",
    "print(df.head())"
   ]
  },
  {
   "cell_type": "markdown",
   "metadata": {},
   "source": [
    "## 分析数据\n",
    "- 直方图(distplot), 结果表明，**c1-c5是有效的结果**，其他的网络预测的结果就是一坨，后面的网络为什么会这么差呢？\n",
    "- 成对的散点图（pairplot)，看不出什么结果\n",
    "\n",
    "下一步需要分析的是：\n",
    "- 为什么后面的网络预测失效？\n",
    "- 怎么才能得到更高的准确率？"
   ]
  },
  {
   "cell_type": "code",
   "execution_count": 71,
   "metadata": {},
   "outputs": [
    {
     "data": {
      "image/png": "[encoded data removed]",
      "text/plain": [
       "<matplotlib.figure.Figure at 0x7f1937425c18>"
      ]
     },
     "metadata": {},
     "output_type": "display_data"
    }
   ],
   "source": [
    "fig, ax = plt.subplots(3, 4, sharex='col', sharey='row',figsize=(16,12))\n",
    "\n",
    "m = 1\n",
    "for i in range(3):\n",
    "    for j in range(4):\n",
    "        sns.distplot(df[df.columns[m]],kde=False,ax=ax[i,j])\n",
    "        m = m+1\n",
    "\n",
    "# plt.figure(figsize=(32,32))\n",
    "# g = sns.pairplot(df.iloc[:,1:4],hue=\"c1\")"
   ]
  },
  {
   "cell_type": "markdown",
   "metadata": {},
   "source": [
    "## 后面网络失效的原因分析\n",
    "- 测试数据分布不均匀，其实训练数据也是不均匀的，存在数据偏斜的问题，data imbalance，偏斜比率最高达到6.75\n",
    "- 训练数据太少～500张/类，学习的参数过多。极其容易过拟合，**主要因素**\n",
    "- dense net 可能比ResNet在这个问题上更弱点。\n",
    "\n",
    "## 如何改善结果指标\n",
    "- 重新调整训练数据分布\n",
    "- 使用更多的ResNet网络集成\n",
    "- 使用半监督的学习\n",
    "- 对于集成结果有争议的数据，引入仲裁"
   ]
  },
  {
   "cell_type": "code",
   "execution_count": 91,
   "metadata": {},
   "outputs": [
    {
     "name": "stdout",
     "output_type": "stream",
     "text": [
      "   c1  c2  c3  c4  c5  max_val  max_count\n",
      "0   1   1   4   1   1        1          4\n",
      "1   2   2   2   2   2        2          5\n",
      "2   5   5   5   5   5        5          5\n",
      "3   0   0   0   0   0        0          5\n",
      "4   2   2   2   2   2        2          5\n",
      "分布：\n",
      "             c1    c2    c3    c4    c5  max_val\n",
      "max_count                                       \n",
      "2            36    36    36    36    36       36\n",
      "3           350   350   350   350   350      350\n",
      "4          1073  1073  1073  1073  1073     1073\n",
      "5          8683  8683  8683  8683  8683     8683\n"
     ]
    }
   ],
   "source": [
    "# 继续学习，统计c1-c5预测结果一致性的分布\n",
    "new_df = df.loc[:,[\"c1\",\"c2\",\"c3\",\"c4\",\"c5\"]]\n",
    "data_numpy = new_df.values.astype(np.int64)\n",
    "\n",
    "max_val =[]\n",
    "max_ind = []\n",
    "for data in data_numpy:\n",
    "    max_val.append(np.argmax(np.bincount(data)))\n",
    "    max_ind.append(np.max(np.bincount(data)))\n",
    "\n",
    "new_df[\"max_val\"] = max_val\n",
    "new_df[\"max_count\"] = max_ind\n",
    "print(new_df.head())\n",
    "print(\"分布：\")\n",
    "print(new_df.groupby(by=\"max_count\").count())\n",
    "# sns.distplot(new_df.max_count,kde=False)\n"
   ]
  },
  {
   "cell_type": "markdown",
   "metadata": {},
   "source": [
    "## 原来有173个分错的\n",
    "应该是集中在 得分比较低的36个和350个中间"
   ]
  },
  {
   "cell_type": "code",
   "execution_count": 99,
   "metadata": {},
   "outputs": [
    {
     "name": "stdout",
     "output_type": "stream",
     "text": [
      "                   id  c1  c2  c3  c4  c5\n",
      "68     test_00068.png   1   4   2   1   4\n",
      "75     test_00075.png   1   3   3   0   1\n",
      "920    test_00920.png   1   0   3   0   1\n",
      "1010   test_01010.png   3   1   3   5   5\n",
      "1117   test_01117.png   1   4   0   1   0\n",
      "1678   test_01678.png   1   5   3   1   5\n",
      "1747   test_01747.png   1   4   3   1   4\n",
      "2483   test_02483.png   1   5   1   0   0\n",
      "2529   test_02529.png   2   2   4   3   4\n",
      "2651   test_02651.png   1   0   4   0   1\n",
      "3615   test_03615.png   1   0   3   0   3\n",
      "3874   test_03874.png   1   5   3   1   5\n",
      "3975   test_03975.png   1   4   3   1   3\n",
      "4000   test_04000.png   3   1   2   3   2\n",
      "4318   test_04318.png   3   1   2   2   3\n",
      "4343   test_04343.png   1   4   3   4   1\n",
      "4697   test_04697.png   3   4   3   1   1\n",
      "4789   test_04789.png   0   0   4   3   3\n",
      "4911   test_04911.png   1   5   3   1   5\n",
      "5274   test_05274.png   1   5   3   1   5\n",
      "5444   test_05444.png   3   4   3   1   4\n",
      "5521   test_05521.png   1   4   2   1   4\n",
      "5942   test_05942.png   1   5   0   5   0\n",
      "5976   test_05976.png   3   4   1   1   3\n",
      "6042   test_06042.png   3   1   4   3   4\n",
      "6170   test_06170.png   1   5   3   1   5\n",
      "6698   test_06698.png   0   1   4   3   4\n",
      "7343   test_07343.png   1   4   3   1   4\n",
      "7530   test_07530.png   5   4   5   1   1\n",
      "7938   test_07938.png   3   4   3   1   1\n",
      "8134   test_08134.png   1   5   3   1   5\n",
      "8170   test_08170.png   4   1   3   3   4\n",
      "8263   test_08263.png   1   0   3   0   1\n",
      "8810   test_08810.png   3   0   4   0   1\n",
      "9296   test_09296.png   1   3   4   0   0\n",
      "10087  test_10087.png   0   3   2   2   3\n"
     ]
    }
   ],
   "source": [
    "print(df[new_df.max_count==2].iloc[:,:6])"
   ]
  }
 ],
 "metadata": {
  "kernelspec": {
   "display_name": "Python 3",
   "language": "python",
   "name": "python3"
  },
  "language_info": {
   "codemirror_mode": {
    "name": "ipython",
    "version": 3
   },
   "file_extension": ".py",
   "mimetype": "text/x-python",
   "name": "python",
   "nbconvert_exporter": "python",
   "pygments_lexer": "ipython3",
   "version": "3.7.4"
  }
 },
 "nbformat": 4,
 "nbformat_minor": 2
}
